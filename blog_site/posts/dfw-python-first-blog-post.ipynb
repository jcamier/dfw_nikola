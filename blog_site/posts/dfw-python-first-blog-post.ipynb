{
 "cells": [
  {
   "cell_type": "markdown",
   "metadata": {},
   "source": [
    "This is the first post for a tutorial on Nikola for the DFW Pythoners Meetup.\n",
    "\n",
    "What do you think?"
   ]
  }
 ],
 "metadata": {
  "kernelspec": {
   "display_name": "Python 3",
   "env": {},
   "interrupt_mode": "signal",
   "language": "python",
   "metadata": {},
   "name": "python3"
  },
  "nikola": {
   "category": "",
   "date": "2020-06-02 01:53:30 UTC",
   "description": "",
   "link": "",
   "slug": "dfw-python-first-blog-post",
   "tags": "",
   "title": "DFW Python First Blog Post",
   "type": "text"
  }
 },
 "nbformat": 4,
 "nbformat_minor": 4
}