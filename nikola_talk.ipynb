{
 "cells": [
  {
   "cell_type": "markdown",
   "metadata": {},
   "source": [
    "<h1>Introduction to <i style=\"color:red;\">Nikola</i> - Static Site Generator</h1>"
   ]
  },
  {
   "cell_type": "code",
   "execution_count": null,
   "metadata": {},
   "outputs": [],
   "source": [
    "%%HTML\n",
    "<img src=\"nikola_logo.svg\" width=\"300\"/>"
   ]
  },
  {
   "cell_type": "markdown",
   "metadata": {},
   "source": [
    "## <i>by Jack Camier, Python Developer</i>"
   ]
  },
  {
   "cell_type": "markdown",
   "metadata": {},
   "source": [
    "## Documentation can be found at:"
   ]
  },
  {
   "cell_type": "markdown",
   "metadata": {},
   "source": [
    "https://getnikola.com/"
   ]
  },
  {
   "cell_type": "markdown",
   "metadata": {},
   "source": [
    "<hr>"
   ]
  },
  {
   "cell_type": "markdown",
   "metadata": {},
   "source": [
    "# Steps taken to setup environment for Jupyter Notebook:\n",
    "### *Assuming anaconda is installed"
   ]
  },
  {
   "cell_type": "raw",
   "metadata": {},
   "source": [
    "# Create a virtual environment called `mynikola`\n",
    "\n",
    "conda create -n mynikola\n",
    "\n",
    "# To allow to run in Jupyter Notebook\n",
    "\n",
    "pip install --user ipykernel \n",
    "\n",
    "# Setup Jupyter Notebook to run in mynikola environment\n",
    "\n",
    "python -m ipykernel install --user --name=mynikola\n",
    "\n",
    "# Activate the environment in command line\n",
    "\n",
    "source activate mynikola\n",
    "\n",
    "# Install Nikola\n",
    "\n",
    "pip install Nikola[extras]"
   ]
  },
  {
   "cell_type": "markdown",
   "metadata": {},
   "source": [
    "<hr>"
   ]
  },
  {
   "cell_type": "markdown",
   "metadata": {},
   "source": [
    "## Steps to setup environment on local machine (Mac/Linux) Python >= 3.3:"
   ]
  },
  {
   "cell_type": "raw",
   "metadata": {},
   "source": [
    "python -m venv mynikola\n",
    "\n",
    "source mynikola/bin/activate\n",
    "\n",
    "pip install Nikola[extras]"
   ]
  },
  {
   "cell_type": "markdown",
   "metadata": {},
   "source": [
    "<hr>"
   ]
  },
  {
   "cell_type": "markdown",
   "metadata": {},
   "source": [
    "# Setting up our Blog Static Site:"
   ]
  },
  {
   "cell_type": "code",
   "execution_count": null,
   "metadata": {},
   "outputs": [],
   "source": [
    "import os"
   ]
  },
  {
   "cell_type": "code",
   "execution_count": null,
   "metadata": {},
   "outputs": [],
   "source": [
    "try:\n",
    "    os.mkdir('blog_site')\n",
    "except FileExistsError:\n",
    "    pass"
   ]
  },
  {
   "cell_type": "code",
   "execution_count": 3,
   "metadata": {},
   "outputs": [],
   "source": [
    "os.chdir('blog_site')"
   ]
  },
  {
   "cell_type": "code",
   "execution_count": 4,
   "metadata": {},
   "outputs": [
    {
     "data": {
      "text/plain": [
       "'/Users/jacquescamier/JupyterProjects/dfw_nikola/blog_site'"
      ]
     },
     "execution_count": 4,
     "metadata": {},
     "output_type": "execute_result"
    }
   ],
   "source": [
    "os.getcwd()"
   ]
  },
  {
   "cell_type": "markdown",
   "metadata": {},
   "source": [
    "## This should be your `blog_site` directory"
   ]
  },
  {
   "cell_type": "markdown",
   "metadata": {},
   "source": [
    "# To setup your site you run:"
   ]
  },
  {
   "cell_type": "raw",
   "metadata": {},
   "source": [
    "nikola init <your directory>\n",
    "\n",
    "--quiet option to not be prompted for the setup questions\n",
    "--demo for some demo data to be prepopulated\n",
    "\n",
    "\n",
    "I will be using the ! magic commmand to run Nikola command line in my Jupyter Notebook"
   ]
  },
  {
   "cell_type": "markdown",
   "metadata": {},
   "source": [
    "https://ipython.readthedocs.io/en/stable/interactive/magics.html"
   ]
  },
  {
   "cell_type": "code",
   "execution_count": null,
   "metadata": {},
   "outputs": [],
   "source": [
    "!nikola init --quiet ."
   ]
  },
  {
   "cell_type": "markdown",
   "metadata": {},
   "source": [
    "## Here are a list of the files that are generated in our `blog_site` directory:"
   ]
  },
  {
   "cell_type": "code",
   "execution_count": null,
   "metadata": {},
   "outputs": [],
   "source": [
    "os.listdir()"
   ]
  },
  {
   "cell_type": "markdown",
   "metadata": {},
   "source": [
    "## In the blog_site directory we created, we do the following command line:\n",
    "\n",
    "## To create our initial build\n",
    "\n",
    "## `nikola build`"
   ]
  },
  {
   "cell_type": "code",
   "execution_count": null,
   "metadata": {},
   "outputs": [],
   "source": [
    "!nikola build"
   ]
  },
  {
   "cell_type": "markdown",
   "metadata": {},
   "source": [
    "## Now to see the website in our browser, do the following command:\n",
    "\n",
    "## `nikola serve --browser`\n",
    "\n",
    "## You can use the magic command `!nikola serve --browser` in your Jupyter Notebook but then I ran into problems trying to closing the browser afterwards. I recommend doing this in the command line in general."
   ]
  },
  {
   "cell_type": "code",
   "execution_count": null,
   "metadata": {},
   "outputs": [],
   "source": [
    "!nikola serve --browser"
   ]
  },
  {
   "cell_type": "markdown",
   "metadata": {},
   "source": [
    "## This will launch the website on our local machine at:\n",
    "\n",
    "http://127.0.0.1:8000/"
   ]
  },
  {
   "cell_type": "markdown",
   "metadata": {},
   "source": [
    "# Amazingly simple to create a website with just a few lines of code!"
   ]
  },
  {
   "cell_type": "markdown",
   "metadata": {},
   "source": [
    "## To close the browser, you send the `ctrl+c` commands. "
   ]
  },
  {
   "cell_type": "markdown",
   "metadata": {},
   "source": [
    "## We really have done anything yet, so it is quite boring.\n",
    "\n",
    "## So, Let's add a post"
   ]
  },
  {
   "cell_type": "markdown",
   "metadata": {},
   "source": [
    "## To continue building our blog with the Jupyter Notebook. Modify the `conf.py` file, to update the POSTS tuple and PAGES as follows (was at line 219 for me:"
   ]
  },
  {
   "cell_type": "raw",
   "metadata": {},
   "source": [
    "POSTS = (\n",
    "    (\"posts/*.rst\", \"posts\", \"post.tmpl\"),\n",
    "    (\"posts/*.md\", \"posts\", \"post.tmpl\"),\n",
    "    (\"posts/*.txt\", \"posts\", \"post.tmpl\"),\n",
    "    (\"posts/*.html\", \"posts\", \"post.tmpl\"),\n",
    "    (\"posts/*.ipynb\", \"posts\", \"post.tmpl\"),  # < -- Add Jupyter Notebooks format\n",
    ")\n",
    "PAGES = (\n",
    "    (\"pages/*.rst\", \"pages\", \"page.tmpl\"),\n",
    "    (\"pages/*.md\", \"pages\", \"page.tmpl\"),\n",
    "    (\"pages/*.txt\", \"pages\", \"page.tmpl\"),\n",
    "    (\"pages/*.html\", \"pages\", \"page.tmpl\"),\n",
    "    (\"pages/*.ipynb\", \"pages\", \"page.tmpl\"),  # < -- Add Jupyter Notebooks format\n",
    ")"
   ]
  },
  {
   "cell_type": "markdown",
   "metadata": {},
   "source": [
    "## Type `nikola new_post -f ipynb`  to create a post using a Jupyter Notebook.\n",
    "\n",
    "## To use another format, in the command line, you can type `nikola new_post -e`\n",
    "\n",
    "## You will get the following option that looks as follows:"
   ]
  },
  {
   "cell_type": "raw",
   "metadata": {},
   "source": [
    "Creating New Post\n",
    "-----------------\n",
    "\n",
    "Title: "
   ]
  },
  {
   "cell_type": "markdown",
   "metadata": {},
   "source": [
    "## Then, in your editor of choice update the `reStructuredText`\n",
    "\n",
    "## I added `DFW Python First Blog Post` to the Title\n",
    "\n",
    "## And the following two lines to start a conversation:\n",
    "This is the first post for a tutorial on Nikola for the DFW Pythoners Meetup.\n",
    "\n",
    "What do you think?"
   ]
  },
  {
   "cell_type": "markdown",
   "metadata": {},
   "source": [
    "## For a link on a primer on reStructuredText:\n",
    "\n",
    "https://getnikola.com/quickstart.html"
   ]
  },
  {
   "cell_type": "markdown",
   "metadata": {},
   "source": [
    "## Then, `nikola build` to rebuild the site"
   ]
  },
  {
   "cell_type": "markdown",
   "metadata": {},
   "source": [
    "# That's it, that simple!"
   ]
  },
  {
   "cell_type": "markdown",
   "metadata": {},
   "source": [
    "## Let's start the browser to see the post\n",
    "\n",
    "nikola serve --browser\n",
    "\n",
    "http://127.0.0.1:8000/"
   ]
  },
  {
   "cell_type": "code",
   "execution_count": null,
   "metadata": {},
   "outputs": [],
   "source": []
  }
 ],
 "metadata": {
  "kernelspec": {
   "display_name": "mynikola",
   "language": "python",
   "name": "mynikola"
  },
  "language_info": {
   "codemirror_mode": {
    "name": "ipython",
    "version": 3
   },
   "file_extension": ".py",
   "mimetype": "text/x-python",
   "name": "python",
   "nbconvert_exporter": "python",
   "pygments_lexer": "ipython3",
   "version": "3.7.4"
  }
 },
 "nbformat": 4,
 "nbformat_minor": 2
}
