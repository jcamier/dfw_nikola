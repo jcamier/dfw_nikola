{
 "cells": [
  {
   "cell_type": "markdown",
   "metadata": {},
   "source": [
    "<h1>Introduction to <i style=\"color:red;\">Nikola</i> - Static Site Generator</h1>"
   ]
  },
  {
   "cell_type": "code",
   "execution_count": null,
   "metadata": {},
   "outputs": [],
   "source": [
    "%%HTML\n",
    "<img src=\"nikola_logo.svg\" width=\"300\"/>"
   ]
  },
  {
   "cell_type": "markdown",
   "metadata": {},
   "source": [
    "## <i>by Jack Camier, Python Developer</i>"
   ]
  },
  {
   "cell_type": "markdown",
   "metadata": {},
   "source": [
    "<hr>"
   ]
  },
  {
   "cell_type": "markdown",
   "metadata": {},
   "source": [
    "# Steps taken to setup environment for Jupyter Notebook:\n",
    "### *Assuming anaconda is installed"
   ]
  },
  {
   "cell_type": "raw",
   "metadata": {},
   "source": [
    "# Create a virtual environment called `mynikola`\n",
    "\n",
    "conda create -n mynikola\n",
    "\n",
    "# To allow to run in Jupyter Notebook\n",
    "\n",
    "pip install --user ipykernel \n",
    "\n",
    "# Setup Jupyter Notebook to run in mynikola environment\n",
    "\n",
    "python -m ipykernel install --user --name=mynikola\n",
    "\n",
    "# Activate the environment in command line\n",
    "\n",
    "source activate mynikola\n",
    "\n",
    "# Install Nikola\n",
    "\n",
    "pip install Nikola[extras]"
   ]
  },
  {
   "cell_type": "markdown",
   "metadata": {},
   "source": [
    "<hr>"
   ]
  },
  {
   "cell_type": "markdown",
   "metadata": {},
   "source": [
    "## Steps to setup environment on local machine (Mac/Linux) Python >= 3.3:"
   ]
  },
  {
   "cell_type": "raw",
   "metadata": {},
   "source": [
    "python -m venv mynikola\n",
    "\n",
    "source mynikola/bin/activate\n",
    "\n",
    "pip install Nikola[extras]"
   ]
  },
  {
   "cell_type": "markdown",
   "metadata": {},
   "source": [
    "<hr>"
   ]
  },
  {
   "cell_type": "markdown",
   "metadata": {},
   "source": [
    "# Setting up our Blog Static Site:"
   ]
  },
  {
   "cell_type": "code",
   "execution_count": 1,
   "metadata": {},
   "outputs": [],
   "source": [
    "import os"
   ]
  },
  {
   "cell_type": "code",
   "execution_count": 2,
   "metadata": {},
   "outputs": [],
   "source": [
    "try:\n",
    "    os.mkdir('blog_site')\n",
    "except FileExistsError:\n",
    "    pass"
   ]
  },
  {
   "cell_type": "code",
   "execution_count": 3,
   "metadata": {},
   "outputs": [],
   "source": [
    "os.chdir('blog_site')"
   ]
  },
  {
   "cell_type": "code",
   "execution_count": 5,
   "metadata": {},
   "outputs": [
    {
     "data": {
      "text/plain": [
       "'/Users/jacquescamier/JupyterProjects/dfw_nikola/blog_site'"
      ]
     },
     "execution_count": 5,
     "metadata": {},
     "output_type": "execute_result"
    }
   ],
   "source": [
    "os.getcwd()"
   ]
  },
  {
   "cell_type": "markdown",
   "metadata": {},
   "source": [
    "## This should be your blog_site directory"
   ]
  },
  {
   "cell_type": "markdown",
   "metadata": {},
   "source": [
    "# To setup your site you run:"
   ]
  },
  {
   "cell_type": "raw",
   "metadata": {},
   "source": [
    "nikola init <your directory>\n",
    "\n",
    "--quiet option to not be propmpted for the setup questions\n",
    "--demo for some demo data to be prepopulated\n",
    "\n",
    "\n",
    "I will be using the ! magic commmand to run Nikola command line in my Jupyter Notebook"
   ]
  },
  {
   "cell_type": "markdown",
   "metadata": {},
   "source": [
    "https://ipython.readthedocs.io/en/stable/interactive/magics.html"
   ]
  },
  {
   "cell_type": "code",
   "execution_count": 8,
   "metadata": {},
   "outputs": [],
   "source": [
    "!nikola init --quiet ."
   ]
  },
  {
   "cell_type": "markdown",
   "metadata": {},
   "source": [
    "## Here are a list of the files that are generated:"
   ]
  },
  {
   "cell_type": "code",
   "execution_count": 10,
   "metadata": {},
   "outputs": [
    {
     "data": {
      "text/plain": [
       "['posts',\n",
       " 'cache',\n",
       " 'images',\n",
       " 'listings',\n",
       " 'conf.py',\n",
       " '__pycache__',\n",
       " 'files',\n",
       " 'galleries',\n",
       " 'pages']"
      ]
     },
     "execution_count": 10,
     "metadata": {},
     "output_type": "execute_result"
    }
   ],
   "source": [
    "os.listdir()"
   ]
  },
  {
   "cell_type": "code",
   "execution_count": null,
   "metadata": {},
   "outputs": [],
   "source": []
  }
 ],
 "metadata": {
  "kernelspec": {
   "display_name": "mynikola",
   "language": "python",
   "name": "mynikola"
  },
  "language_info": {
   "codemirror_mode": {
    "name": "ipython",
    "version": 3
   },
   "file_extension": ".py",
   "mimetype": "text/x-python",
   "name": "python",
   "nbconvert_exporter": "python",
   "pygments_lexer": "ipython3",
   "version": "3.7.4"
  }
 },
 "nbformat": 4,
 "nbformat_minor": 2
}
