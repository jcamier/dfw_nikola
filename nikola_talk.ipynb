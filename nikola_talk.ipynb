{
 "cells": [
  {
   "cell_type": "markdown",
   "metadata": {},
   "source": [
    "<h1>Introduction to <i style=\"color:red;\">Nikola</i> - Static Site Generator</h1>"
   ]
  },
  {
   "cell_type": "code",
   "execution_count": 1,
   "metadata": {},
   "outputs": [
    {
     "data": {
      "text/html": [
       "<img src=\"nikola_logo.svg\" width=\"300\"/>\n"
      ],
      "text/plain": [
       "<IPython.core.display.HTML object>"
      ]
     },
     "metadata": {},
     "output_type": "display_data"
    }
   ],
   "source": [
    "%%HTML\n",
    "<img src=\"nikola_logo.svg\" width=\"300\"/>"
   ]
  },
  {
   "cell_type": "markdown",
   "metadata": {},
   "source": [
    "## <i>by Jack Camier, Python Developer</i>"
   ]
  },
  {
   "cell_type": "markdown",
   "metadata": {},
   "source": [
    "## Documentation can be found at:"
   ]
  },
  {
   "cell_type": "markdown",
   "metadata": {},
   "source": [
    "https://getnikola.com/"
   ]
  },
  {
   "cell_type": "markdown",
   "metadata": {},
   "source": [
    "<hr>"
   ]
  },
  {
   "cell_type": "markdown",
   "metadata": {},
   "source": [
    "# Steps taken to setup environment for Jupyter Notebook:\n",
    "### *Assuming anaconda is installed"
   ]
  },
  {
   "cell_type": "raw",
   "metadata": {},
   "source": [
    "# Create a virtual environment called `mynikola`\n",
    "\n",
    "conda create -n mynikola\n",
    "\n",
    "# To allow to run in Jupyter Notebook\n",
    "\n",
    "pip install --user ipykernel \n",
    "\n",
    "# Setup Jupyter Notebook to run in mynikola environment\n",
    "\n",
    "python -m ipykernel install --user --name=mynikola\n",
    "\n",
    "# Activate the environment in command line\n",
    "\n",
    "source activate mynikola\n",
    "\n",
    "# Install Nikola\n",
    "\n",
    "pip install Nikola[extras]"
   ]
  },
  {
   "cell_type": "markdown",
   "metadata": {},
   "source": [
    "<hr>"
   ]
  },
  {
   "cell_type": "markdown",
   "metadata": {},
   "source": [
    "## Steps to setup environment on local machine (Mac/Linux) Python >= 3.3:"
   ]
  },
  {
   "cell_type": "raw",
   "metadata": {},
   "source": [
    "python -m venv mynikola\n",
    "\n",
    "source mynikola/bin/activate\n",
    "\n",
    "pip install Nikola[extras]"
   ]
  },
  {
   "cell_type": "markdown",
   "metadata": {},
   "source": [
    "<hr>"
   ]
  },
  {
   "cell_type": "markdown",
   "metadata": {},
   "source": [
    "# Setting up our Blog Static Site:"
   ]
  },
  {
   "cell_type": "code",
   "execution_count": 3,
   "metadata": {},
   "outputs": [],
   "source": [
    "import os"
   ]
  },
  {
   "cell_type": "code",
   "execution_count": 4,
   "metadata": {},
   "outputs": [],
   "source": [
    "try:\n",
    "    os.mkdir('blog_site')\n",
    "except FileExistsError:\n",
    "    pass"
   ]
  },
  {
   "cell_type": "code",
   "execution_count": 5,
   "metadata": {},
   "outputs": [],
   "source": [
    "os.chdir('blog_site')"
   ]
  },
  {
   "cell_type": "code",
   "execution_count": 6,
   "metadata": {},
   "outputs": [
    {
     "data": {
      "text/plain": [
       "'/Users/jacquescamier/JupyterProjects/dfw_nikola/blog_site'"
      ]
     },
     "execution_count": 6,
     "metadata": {},
     "output_type": "execute_result"
    }
   ],
   "source": [
    "os.getcwd()"
   ]
  },
  {
   "cell_type": "markdown",
   "metadata": {},
   "source": [
    "## This should be your `blog_site` directory"
   ]
  },
  {
   "cell_type": "markdown",
   "metadata": {},
   "source": [
    "# To setup your site you run:"
   ]
  },
  {
   "cell_type": "raw",
   "metadata": {},
   "source": [
    "nikola init <your directory>\n",
    "\n",
    "--quiet option to not be prompted for the setup questions\n",
    "--demo for some demo data to be prepopulated\n",
    "\n",
    "\n",
    "I will be using the ! magic commmand to run Nikola command line in my Jupyter Notebook"
   ]
  },
  {
   "cell_type": "markdown",
   "metadata": {},
   "source": [
    "https://ipython.readthedocs.io/en/stable/interactive/magics.html"
   ]
  },
  {
   "cell_type": "code",
   "execution_count": 7,
   "metadata": {},
   "outputs": [],
   "source": [
    "!nikola init --quiet ."
   ]
  },
  {
   "cell_type": "markdown",
   "metadata": {},
   "source": [
    "## Here are a list of the files that are generated in our `blog_site` directory:"
   ]
  },
  {
   "cell_type": "code",
   "execution_count": 8,
   "metadata": {},
   "outputs": [
    {
     "data": {
      "text/plain": [
       "['posts',\n",
       " '.DS_Store',\n",
       " 'cache',\n",
       " 'images',\n",
       " 'listings',\n",
       " 'conf.py',\n",
       " '.doit.db.db',\n",
       " 'output',\n",
       " '__pycache__',\n",
       " 'blog_site',\n",
       " 'files',\n",
       " 'galleries',\n",
       " 'pages']"
      ]
     },
     "execution_count": 8,
     "metadata": {},
     "output_type": "execute_result"
    }
   ],
   "source": [
    "os.listdir()"
   ]
  },
  {
   "cell_type": "markdown",
   "metadata": {},
   "source": [
    "## In the blog_site directory we created, we do the following command line:\n",
    "\n",
    "## To create our initial build\n",
    "\n",
    "## `nikola build`"
   ]
  },
  {
   "cell_type": "code",
   "execution_count": null,
   "metadata": {},
   "outputs": [],
   "source": [
    "!nikola build"
   ]
  },
  {
   "cell_type": "markdown",
   "metadata": {},
   "source": [
    "## Now to see the website in our browser, do the following command:\n",
    "\n",
    "## `nikola serve --browser`\n",
    "\n",
    "## You can use the magic command `!nikola serve --browser` in your Jupyter Notebook but then I ran into problems trying to closing the browser afterwards. I recommend doing this in the command line in general."
   ]
  },
  {
   "cell_type": "code",
   "execution_count": null,
   "metadata": {},
   "outputs": [],
   "source": [
    "!nikola serve --browser"
   ]
  },
  {
   "cell_type": "markdown",
   "metadata": {},
   "source": [
    "## This will launch the website on our local machine at:\n",
    "\n",
    "http://127.0.0.1:8000/"
   ]
  },
  {
   "cell_type": "markdown",
   "metadata": {},
   "source": [
    "# Amazingly simple to create a website with just a few lines of code!"
   ]
  },
  {
   "cell_type": "markdown",
   "metadata": {},
   "source": [
    "## To close the browser, just use the `ctrl+c` command. "
   ]
  },
  {
   "cell_type": "markdown",
   "metadata": {},
   "source": [
    "## We really have done anything yet, so it is quite boring.\n",
    "\n",
    "## So, Let's add a post"
   ]
  },
  {
   "cell_type": "markdown",
   "metadata": {},
   "source": [
    "## To continue building our blog with the Jupyter Notebook. Modify the `conf.py` file, to update the POSTS tuple and PAGES as follows (was at line 219 for me):"
   ]
  },
  {
   "cell_type": "raw",
   "metadata": {},
   "source": [
    "POSTS = (\n",
    "    (\"posts/*.rst\", \"posts\", \"post.tmpl\"),\n",
    "    (\"posts/*.md\", \"posts\", \"post.tmpl\"),\n",
    "    (\"posts/*.txt\", \"posts\", \"post.tmpl\"),\n",
    "    (\"posts/*.html\", \"posts\", \"post.tmpl\"),\n",
    "    (\"posts/*.ipynb\", \"posts\", \"post.tmpl\"),  # < -- Add Jupyter Notebooks format\n",
    ")\n",
    "PAGES = (\n",
    "    (\"pages/*.rst\", \"pages\", \"page.tmpl\"),\n",
    "    (\"pages/*.md\", \"pages\", \"page.tmpl\"),\n",
    "    (\"pages/*.txt\", \"pages\", \"page.tmpl\"),\n",
    "    (\"pages/*.html\", \"pages\", \"page.tmpl\"),\n",
    "    (\"pages/*.ipynb\", \"pages\", \"page.tmpl\"),  # < -- Add Jupyter Notebooks format\n",
    ")"
   ]
  },
  {
   "cell_type": "markdown",
   "metadata": {},
   "source": [
    "## Type `nikola new_post -f ipynb`  to create a post using a Jupyter Notebook.\n",
    "\n",
    "## To use another format in the command line, you can type `nikola new_post -e`\n",
    "\n",
    "## You will get the following option that looks as follows:"
   ]
  },
  {
   "cell_type": "raw",
   "metadata": {},
   "source": [
    "Creating New Post\n",
    "-----------------\n",
    "\n",
    "Title: "
   ]
  },
  {
   "cell_type": "markdown",
   "metadata": {},
   "source": [
    "## Then, in your editor of choice update the `reStructuredText`\n",
    "\n",
    "## I added `DFW Python First Blog Post` to the Title\n",
    "\n",
    "## And the following two lines to start a conversation:\n",
    "This is the first post for a tutorial on Nikola for the DFW Pythoners Meetup.\n",
    "\n",
    "What do you think?"
   ]
  },
  {
   "cell_type": "markdown",
   "metadata": {},
   "source": [
    "## FYI - for a link on a primer on reStructuredText:\n",
    "\n",
    "https://getnikola.com/quickstart.html"
   ]
  },
  {
   "cell_type": "markdown",
   "metadata": {},
   "source": [
    "## Then, `nikola build` to rebuild the site"
   ]
  },
  {
   "cell_type": "markdown",
   "metadata": {},
   "source": [
    "# That's it, that simple!"
   ]
  },
  {
   "cell_type": "markdown",
   "metadata": {},
   "source": [
    "## Let's start the browser to see the post\n",
    "\n",
    "nikola serve --browser\n",
    "\n",
    "http://127.0.0.1:8000/"
   ]
  },
  {
   "cell_type": "markdown",
   "metadata": {},
   "source": [
    "## Let's create another post but using the default reStructuredText .rst with\n",
    "## `nikola new_post -e`"
   ]
  },
  {
   "cell_type": "markdown",
   "metadata": {},
   "source": [
    "## I gave it the title of `DFW reStructuredText Post`"
   ]
  },
  {
   "cell_type": "markdown",
   "metadata": {},
   "source": [
    "## We can create a paragraph by just typing a sentence\n",
    "Here is a paragraph example\n",
    "\n",
    "    Then indent another sentence as an example\n",
    "    \n",
    "## To mark text with *italics* use \\*italics\\* or **bold** with \\*\\*bold\\*\\*"
   ]
  },
  {
   "cell_type": "markdown",
   "metadata": {},
   "source": [
    "## To create sections use ----, ====\n",
    "\n",
    "\\----\n",
    "\n",
    "## Here is another section to our post\n",
    "\n",
    "\\====\n",
    "\n"
   ]
  },
  {
   "cell_type": "raw",
   "metadata": {},
   "source": [
    "To insert an image use .. image:: directive then the path\n",
    "\n",
    ".. image:: /images/nikola.png"
   ]
  },
  {
   "cell_type": "markdown",
   "metadata": {},
   "source": [
    "* a bullet point using \"*\"\n",
    "\n",
    "  - a sub-list using \"-\"\n",
    "\n",
    "    + yet another sub-list\n",
    "\n",
    "  - another item"
   ]
  },
  {
   "cell_type": "markdown",
   "metadata": {},
   "source": [
    "## Let's rebuild our site by\n",
    "## `nikola build`"
   ]
  },
  {
   "cell_type": "markdown",
   "metadata": {},
   "source": [
    "## And to see the changes\n",
    "\n",
    "`nikola serve --browser`\n",
    "\n",
    "http://127.0.0.1:8000/"
   ]
  },
  {
   "cell_type": "markdown",
   "metadata": {},
   "source": [
    "## As you can see, Nikola makes it really simple and easy to create static sites quickly\n",
    "\n",
    "# Now go try building one on your own!"
   ]
  },
  {
   "cell_type": "markdown",
   "metadata": {},
   "source": [
    "# Part II - Deploying on the WWW!\n",
    "\n",
    "## In this example, I will be deploying to Digital Ocean: https://www.digitalocean.com/\n",
    "\n",
    "## Alternatives are:\n",
    "## Linode https://www.linode.com/\n",
    "## AWS https://aws.amazon.com/\n",
    "## Google cloud https://cloud.google.com/\n",
    "## Azure https://azure.microsoft.com/en-us/\n",
    "## etc.\n",
    "<hr>"
   ]
  },
  {
   "cell_type": "markdown",
   "metadata": {},
   "source": [
    "## This examples I will be using Ubuntu and Nginx"
   ]
  },
  {
   "cell_type": "raw",
   "metadata": {},
   "source": [
    "sudo apt update\n",
    "\n",
    "sudo apt install nginx\n",
    "\n",
    "sudo ufw app list\n",
    "\n",
    "sudo apt install python3\n",
    "\n",
    "sudo apt install python3-pip\n",
    "\n",
    "pip3 install Nikola[extras]\n",
    "\n",
    "cd /etc/nginx/sites-available/\n",
    "\n",
    "nano default \n",
    "\n",
    "# add this line under the location / configs\n",
    "\n",
    "proxy_pass http://127.0.0.1:8000;\n",
    "\n",
    "sudo systemctl reload nginx"
   ]
  },
  {
   "cell_type": "markdown",
   "metadata": {},
   "source": [
    "## Copy over your files to the Ubuntu instance\n",
    "## cd to your project directory\n",
    "\n",
    "## `nikola serve --browser`"
   ]
  },
  {
   "cell_type": "markdown",
   "metadata": {},
   "source": [
    "## Go to your public ip address\n",
    "\n",
    "## Tonight's example it is:"
   ]
  },
  {
   "cell_type": "markdown",
   "metadata": {},
   "source": [
    "## Thank you"
   ]
  }
 ],
 "metadata": {
  "kernelspec": {
   "display_name": "mynikola",
   "language": "python",
   "name": "mynikola"
  },
  "language_info": {
   "codemirror_mode": {
    "name": "ipython",
    "version": 3
   },
   "file_extension": ".py",
   "mimetype": "text/x-python",
   "name": "python",
   "nbconvert_exporter": "python",
   "pygments_lexer": "ipython3",
   "version": "3.7.4"
  }
 },
 "nbformat": 4,
 "nbformat_minor": 2
}
